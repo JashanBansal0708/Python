{
 "cells": [
  {
   "cell_type": "markdown",
   "metadata": {},
   "source": [
    "# Dictionary Cheat Sheet\n",
    "\n",
    "This cheat sheet contains everything related to List DS.\n",
    "\n",
    "Python dictionary is an unordered collection of items."
   ]
  },
  {
   "cell_type": "code",
   "execution_count": 1,
   "metadata": {},
   "outputs": [
    {
     "name": "stdout",
     "output_type": "stream",
     "text": [
      "{1: 'abc', 2: 'xyz'}\n",
      "{'name': 'Jashan', 1: ['abc', 'xyz']}\n",
      "{1: 'abc', 2: 'xyz'}\n"
     ]
    }
   ],
   "source": [
    "#empty dictionary\n",
    "myDict = {}\n",
    "\n",
    "myDict = {1: 'abc', 2: 'xyz'}\n",
    "print(myDict)\n",
    "\n",
    "#dictionary with mixed keys\n",
    "myDict = {'name': 'Jashan', 1: ['abc', 'xyz']}\n",
    "print(myDict)\n",
    "\n",
    "\n",
    "#create empty dictionary using dict()\n",
    "myDict = dict()\n",
    "\n",
    "myDict = dict([(1, 'abc'), (2, 'xyz')])    #create a dict with list of tuples\n",
    "print(myDict)"
   ]
  },
  {
   "cell_type": "code",
   "execution_count": 3,
   "metadata": {},
   "outputs": [
    {
     "name": "stdout",
     "output_type": "stream",
     "text": [
      "abc\n"
     ]
    },
    {
     "ename": "KeyError",
     "evalue": "'hello'",
     "output_type": "error",
     "traceback": [
      "\u001b[1;31m---------------------------------------------------------------------------\u001b[0m",
      "\u001b[1;31mKeyError\u001b[0m                                  Traceback (most recent call last)",
      "\u001b[1;32m<ipython-input-3-07bef04af3ed>\u001b[0m in \u001b[0;36m<module>\u001b[1;34m()\u001b[0m\n\u001b[0;32m      5\u001b[0m \u001b[1;31m# If key is not present then there is keyvalue error\u001b[0m\u001b[1;33m\u001b[0m\u001b[1;33m\u001b[0m\u001b[0m\n\u001b[0;32m      6\u001b[0m \u001b[1;33m\u001b[0m\u001b[0m\n\u001b[1;32m----> 7\u001b[1;33m \u001b[0mprint\u001b[0m\u001b[1;33m(\u001b[0m\u001b[0mmyDict\u001b[0m\u001b[1;33m[\u001b[0m\u001b[1;34m'hello'\u001b[0m\u001b[1;33m]\u001b[0m\u001b[1;33m)\u001b[0m\u001b[1;33m\u001b[0m\u001b[0m\n\u001b[0m",
      "\u001b[1;31mKeyError\u001b[0m: 'hello'"
     ]
    }
   ],
   "source": [
    "# Dictionary access is by keys\n",
    "\n",
    "print(myDict[1])\n",
    "\n",
    "# If key is not present then there is keyvalue error\n",
    "\n",
    "print(myDict['hello'])"
   ]
  },
  {
   "cell_type": "code",
   "execution_count": 4,
   "metadata": {},
   "outputs": [
    {
     "name": "stdout",
     "output_type": "stream",
     "text": [
      "None\n"
     ]
    }
   ],
   "source": [
    "#another way of accessing key\n",
    "print(myDict.get('address'))"
   ]
  },
  {
   "cell_type": "code",
   "execution_count": 5,
   "metadata": {},
   "outputs": [
    {
     "name": "stdout",
     "output_type": "stream",
     "text": [
      "{1: 'Jashan', 2: 'Bansal'}\n",
      "{1: 'Jashan', 2: 'Bansal', 3: 'JashanJim'}\n"
     ]
    }
   ],
   "source": [
    "# Add or modify elements\n",
    "\n",
    "myDict = {1: 'Jashan', 2: 'Bansl'}\n",
    "\n",
    "# update if present otherwise added\n",
    "\n",
    "myDict[2] = 'Bansal'\n",
    "print(myDict)\n",
    "myDict[3] = 'JashanJim'\n",
    "print(myDict)"
   ]
  },
  {
   "cell_type": "code",
   "execution_count": 6,
   "metadata": {},
   "outputs": [],
   "source": [
    "# dict Delete and Remove Elements\n",
    "\n",
    "# dict.pop(key) remove and return it\n",
    "# dict.popitem()  remove an arbitrary key\n",
    "\n",
    "# del dict[key] delete a particular key\n",
    "# del dict\n",
    "\n",
    "# dict.clear()\n",
    "\n"
   ]
  },
  {
   "cell_type": "code",
   "execution_count": 9,
   "metadata": {},
   "outputs": [
    {
     "name": "stdout",
     "output_type": "stream",
     "text": [
      "{'Math': 0, 'English': 0, 'Hindi': 0}\n"
     ]
    }
   ],
   "source": [
    "# Dictionary Methods\n",
    "\n",
    "# copy()\n",
    "\n",
    "#fromkeys[seq[, v]] -> Return a new dictionary with keys from seq and value equal to v (defaults to None).\n",
    "\n",
    "subjects = {}.fromkeys(['Math', 'English', 'Hindi'], 0)\n",
    "print(subjects)"
   ]
  },
  {
   "cell_type": "code",
   "execution_count": 10,
   "metadata": {},
   "outputs": [
    {
     "name": "stdout",
     "output_type": "stream",
     "text": [
      "dict_items([(2, 4), (3, 9), (4, 16), (5, 25)])\n",
      "dict_values([4, 9, 16, 25])\n",
      "dict_keys([2, 3, 4, 5])\n"
     ]
    }
   ],
   "source": [
    "# items(), keys(), values()\n",
    "\n",
    "subjects = {2:4, 3:9, 4:16, 5:25}\n",
    "print(subjects.items())  #return a new view of the dictionary items (key, value)\n",
    "\n",
    "print(subjects.values()) #return a new view of the dictionary values\n",
    "\n",
    "print(subjects.keys())  #return a new view of the dictionary keys\n",
    "\n"
   ]
  },
  {
   "cell_type": "code",
   "execution_count": 11,
   "metadata": {},
   "outputs": [
    {
     "name": "stdout",
     "output_type": "stream",
     "text": [
      "['__class__', '__contains__', '__delattr__', '__delitem__', '__dir__', '__doc__', '__eq__', '__format__', '__ge__', '__getattribute__', '__getitem__', '__gt__', '__hash__', '__init__', '__init_subclass__', '__iter__', '__le__', '__len__', '__lt__', '__ne__', '__new__', '__reduce__', '__reduce_ex__', '__repr__', '__setattr__', '__setitem__', '__sizeof__', '__str__', '__subclasshook__', 'clear', 'copy', 'fromkeys', 'get', 'items', 'keys', 'pop', 'popitem', 'setdefault', 'update', 'values']\n"
     ]
    }
   ],
   "source": [
    "# list of all available methods and attributes of dictionary\n",
    "d = {}\n",
    "print(dir(d))"
   ]
  },
  {
   "cell_type": "markdown",
   "metadata": {},
   "source": [
    "# Dictionary Comprehension"
   ]
  },
  {
   "cell_type": "code",
   "execution_count": 14,
   "metadata": {},
   "outputs": [
    {
     "name": "stdout",
     "output_type": "stream",
     "text": [
      "('a', 1)\n",
      "('b', 2)\n",
      "('c', 3)\n",
      "{'c': 3, 'd': 4}\n",
      "{'cc': 6, 'dc': 8, 'ec': 10}\n"
     ]
    }
   ],
   "source": [
    "d = {'a': 1, 'b': 2, 'c': 3}\n",
    "for pair in d.items():\n",
    "    print(pair)\n",
    "    \n",
    "#Creating a new dictionary with only pairs where the value is larger than 2\n",
    "d = {'a': 1, 'b': 2, 'c': 3, 'd': 4}\n",
    "new_dict = {k:v for k, v in d.items() if v > 2}\n",
    "print(new_dict)\n",
    "\n",
    "#We can also perform operations on the key value pairs\n",
    "d = {'a':1,'b':2,'c':3,'d':4,'e':5}\n",
    "d = {k + 'c':v * 2 for k, v in d.items() if v > 2}\n",
    "print(d)"
   ]
  },
  {
   "cell_type": "markdown",
   "metadata": {},
   "source": [
    "# String Cheat Sheet\n",
    "\n",
    "A string is a sequence of characters and are immutable"
   ]
  },
  {
   "cell_type": "code",
   "execution_count": 18,
   "metadata": {},
   "outputs": [],
   "source": [
    "#  '', \"\", \"\"\" \"\"\"\n",
    "\n",
    "# Indexing: indexError and typeError\n",
    "\n",
    "# Slicing\n",
    "\n",
    "# del string1\n",
    "\n",
    "\n"
   ]
  },
  {
   "cell_type": "code",
   "execution_count": 17,
   "metadata": {},
   "outputs": [
    {
     "ename": "TypeError",
     "evalue": "'str' object does not support item assignment",
     "output_type": "error",
     "traceback": [
      "\u001b[1;31m---------------------------------------------------------------------------\u001b[0m",
      "\u001b[1;31mTypeError\u001b[0m                                 Traceback (most recent call last)",
      "\u001b[1;32m<ipython-input-17-3e28e60c6adf>\u001b[0m in \u001b[0;36m<module>\u001b[1;34m()\u001b[0m\n\u001b[0;32m      2\u001b[0m \u001b[1;33m\u001b[0m\u001b[0m\n\u001b[0;32m      3\u001b[0m \u001b[0ms\u001b[0m \u001b[1;33m=\u001b[0m \u001b[1;34m'Jashan'\u001b[0m\u001b[1;33m\u001b[0m\u001b[0m\n\u001b[1;32m----> 4\u001b[1;33m \u001b[0ms\u001b[0m\u001b[1;33m[\u001b[0m\u001b[1;36m1\u001b[0m\u001b[1;33m]\u001b[0m \u001b[1;33m=\u001b[0m \u001b[1;34m'i'\u001b[0m\u001b[1;33m\u001b[0m\u001b[0m\n\u001b[0m\u001b[0;32m      5\u001b[0m \u001b[0mprint\u001b[0m\u001b[1;33m(\u001b[0m\u001b[0ms\u001b[0m\u001b[1;33m)\u001b[0m\u001b[1;33m\u001b[0m\u001b[0m\n",
      "\u001b[1;31mTypeError\u001b[0m: 'str' object does not support item assignment"
     ]
    }
   ],
   "source": [
    "# Strings are mutable, but we can assign different strings to same name\n",
    "\n",
    "\n",
    "s = 'Jashan'\n",
    "s[1] = 'i'\n",
    "print(s)"
   ]
  },
  {
   "cell_type": "code",
   "execution_count": 24,
   "metadata": {},
   "outputs": [
    {
     "name": "stdout",
     "output_type": "stream",
     "text": [
      "I am Jashan\n",
      "I, am, Jashan\n",
      "10\n",
      "Bad Morning\n"
     ]
    }
   ],
   "source": [
    "# String operations\n",
    "\n",
    "# concatinations: str1 + str2\n",
    "# Repeatation: str1 * 3\n",
    "# Iterating over strings using for loop\n",
    "# String membership : in, not n\n",
    "\n",
    "\n",
    "# String Methods: does not modify the strings coz they are immutable\n",
    "\n",
    "# lower() upper() split() replace(substr, repaceStr) str.find(substr) ' '.join(['I', 'am', 'Jashan'])\n",
    "\n",
    "print(' '.join(['I', 'am', 'Jashan']))\n",
    "\n",
    "print(', '.join(['I', 'am', 'Jashan']))\n",
    "\n",
    "print('Jashan Bansal'.find('sal'))\n",
    "\n",
    "print(\"Good Morning\".replace('Good', 'Bad'))"
   ]
  },
  {
   "cell_type": "code",
   "execution_count": 28,
   "metadata": {},
   "outputs": [
    {
     "name": "stdout",
     "output_type": "stream",
     "text": [
      "<reversed object at 0x000001D42E42A710>\n"
     ]
    }
   ],
   "source": [
    "# reverse string\n",
    "\n",
    "s1 = 'Hello'\n",
    "s1 = reversed(s1)\n",
    "print(s1)"
   ]
  },
  {
   "cell_type": "code",
   "execution_count": 29,
   "metadata": {},
   "outputs": [
    {
     "name": "stdout",
     "output_type": "stream",
     "text": [
      "['o', 'l', 'l', 'e', 'H']\n"
     ]
    }
   ],
   "source": [
    "# reverse string\n",
    "\n",
    "s1 = 'Hello'\n",
    "s1 = reversed(s1)\n",
    "print(list(s1))"
   ]
  },
  {
   "cell_type": "code",
   "execution_count": 30,
   "metadata": {},
   "outputs": [
    {
     "name": "stdout",
     "output_type": "stream",
     "text": [
      "Given String is palindrome\n"
     ]
    }
   ],
   "source": [
    "# Check a string is palindrome\n",
    "myStr = \"Madam\"\n",
    "myStr = myStr.lower()\n",
    "revStr = reversed(myStr)\n",
    "if list(myStr) == list(revStr):    # Use list coz they have the different references\n",
    "    print(\"Given String is palindrome\")"
   ]
  },
  {
   "cell_type": "code",
   "execution_count": null,
   "metadata": {},
   "outputs": [],
   "source": []
  }
 ],
 "metadata": {
  "kernelspec": {
   "display_name": "Python 3",
   "language": "python",
   "name": "python3"
  },
  "language_info": {
   "codemirror_mode": {
    "name": "ipython",
    "version": 3
   },
   "file_extension": ".py",
   "mimetype": "text/x-python",
   "name": "python",
   "nbconvert_exporter": "python",
   "pygments_lexer": "ipython3",
   "version": "3.6.4"
  }
 },
 "nbformat": 4,
 "nbformat_minor": 2
}
